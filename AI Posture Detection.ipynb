{
 "cells": [
  {
   "cell_type": "markdown",
   "id": "ac88a8ea",
   "metadata": {},
   "source": [
    "# Step 1 - Frame Dividing Part"
   ]
  },
  {
   "cell_type": "markdown",
   "id": "3cf6e90e",
   "metadata": {},
   "source": [
    "#### Install Opencv for Frame Extraction"
   ]
  },
  {
   "cell_type": "code",
   "execution_count": null,
   "id": "7aa0ec21",
   "metadata": {},
   "outputs": [],
   "source": [
    "pip install opencv-python-headless"
   ]
  },
  {
   "cell_type": "markdown",
   "id": "c55dbe94",
   "metadata": {},
   "source": [
    "#### Importing Libraries CV2 and OS"
   ]
  },
  {
   "cell_type": "code",
   "execution_count": null,
   "id": "9cd218d4",
   "metadata": {},
   "outputs": [],
   "source": [
    "import cv2\n",
    "import os"
   ]
  },
  {
   "cell_type": "markdown",
   "id": "28af32fb",
   "metadata": {},
   "source": [
    "#### Function to Extract Frames"
   ]
  },
  {
   "cell_type": "code",
   "execution_count": null,
   "id": "53894381",
   "metadata": {},
   "outputs": [],
   "source": [
    "def extract_frames(video_path, output_folder, frame_rate=30):\n",
    "    \"\"\"Extract frames from a video at a given frame rate.\"\"\"\n",
    "    if not os.path.exists(output_folder):\n",
    "        os.makedirs(output_folder)\n",
    "\n",
    "    cap = cv2.VideoCapture(video_path)\n",
    "    fps = int(cap.get(cv2.CAP_PROP_FPS))  # Get video FPS\n",
    "\n",
    "    # Debug: Print FPS\n",
    "    print(f\"Video: {video_path}, FPS: {fps}\")\n",
    "\n",
    "    if fps == 0:\n",
    "        print(\"Error: Could not read FPS. Check the video file or codec.\")\n",
    "        return  # Exit function to prevent division by zero\n",
    "\n",
    "    frame_interval = max(1, int(fps / frame_rate))  # Avoid division by zero\n",
    "\n",
    "    count = 0\n",
    "    frame_id = 0\n",
    "\n",
    "    while cap.isOpened():\n",
    "        ret, frame = cap.read()\n",
    "        if not ret:\n",
    "            break  # Stop when the video ends\n",
    "\n",
    "        if count % frame_interval == 0:\n",
    "            frame_filename = os.path.join(output_folder, f\"frame_{frame_id:04d}.jpg\")\n",
    "            cv2.imwrite(frame_filename, frame)\n",
    "            frame_id += 1  # Increment frame number\n",
    "\n",
    "        count += 1\n",
    "\n",
    "    cap.release()\n",
    "    print(f\" Extracted {frame_id} frames from {video_path}\")\n"
   ]
  },
  {
   "cell_type": "markdown",
   "id": "c73c1be2",
   "metadata": {},
   "source": [
    "##### Extracting frames"
   ]
  },
  {
   "cell_type": "code",
   "execution_count": null,
   "id": "1d98a9e2",
   "metadata": {},
   "outputs": [],
   "source": [
    "extract_frames(\"Video/Player02_FS_Set01_F_50Kg.MOV\", \"Output Video/frames/front\", frame_rate=30)\n",
    "extract_frames(\"Video/Player02_FS_Set01_S_50Kg.MOV\", \"Output Video/frames/side\", frame_rate=30)\n",
    "extract_frames(\"Video/Player02_FS_Set01_A_50Kg.mp4\", \"Output Video/frames/top\", frame_rate=30)\n"
   ]
  },
  {
   "cell_type": "markdown",
   "id": "a2c3b317",
   "metadata": {},
   "source": [
    "#### Check the orientation and Quality"
   ]
  },
  {
   "cell_type": "code",
   "execution_count": null,
   "id": "1f557962",
   "metadata": {},
   "outputs": [],
   "source": [
    "import cv2\n",
    "import os\n",
    "\n",
    "def check_orientation(folder_path):\n",
    "    \"\"\"Check the orientation of images in a folder.\"\"\"\n",
    "    for img_name in sorted(os.listdir(folder_path)):\n",
    "        img_path = os.path.join(folder_path, img_name)\n",
    "        img = cv2.imread(img_path)\n",
    "        if img is None:\n",
    "            continue  # Skip if image is not loaded\n",
    "\n",
    "        height, width, _ = img.shape\n",
    "        orientation = \"Landscape\" if width > height else \"Portrait\"\n",
    "        print(f\"{img_name}: {orientation} ({width}x{height})\")\n",
    "\n",
    "# Example Usage\n",
    "check_orientation(\"Output Video/frames/front\")\n",
    "check_orientation(\"Output Video/frames/side\")\n",
    "check_orientation(\"Output Video/frames/top\")\n"
   ]
  },
  {
   "cell_type": "markdown",
   "id": "809214c3",
   "metadata": {},
   "source": [
    "#### Rotate fremes if needed"
   ]
  },
  {
   "cell_type": "code",
   "execution_count": null,
   "id": "dc1274cc",
   "metadata": {},
   "outputs": [],
   "source": [
    "def rotate_images(folder_path, rotate_code):\n",
    "    \"\"\"Rotate all images in a folder.\"\"\"\n",
    "    for img_name in sorted(os.listdir(folder_path)):\n",
    "        img_path = os.path.join(folder_path, img_name)\n",
    "        img = cv2.imread(img_path)\n",
    "\n",
    "        if img is None:\n",
    "            continue  # Skip corrupted files\n",
    "\n",
    "        rotated = cv2.rotate(img, rotate_code)\n",
    "        cv2.imwrite(img_path, rotated)\n",
    "        print(f\"Rotated {img_name}\")\n",
    "\n",
    "# Rotate 90 degrees clockwise\n",
    "rotate_images(\"Output Video/frames/front\", cv2.ROTATE_90_CLOCKWISE)\n",
    "\n",
    "# Rotate 90 degrees counter-clockwise\n",
    "# rotate_images(\"Output Video/frames/side\", cv2.ROTATE_90_COUNTERCLOCKWISE)\n"
   ]
  },
  {
   "cell_type": "markdown",
   "id": "66b1f082",
   "metadata": {},
   "source": [
    "#### Remove Blurry Images from frames"
   ]
  },
  {
   "cell_type": "code",
   "execution_count": null,
   "id": "105e241a",
   "metadata": {},
   "outputs": [],
   "source": [
    "def analyze_blurriness(folder_path):\n",
    "    for img_name in sorted(os.listdir(folder_path)):\n",
    "        img_path = os.path.join(folder_path, img_name)\n",
    "        img = cv2.imread(img_path)\n",
    "        if img is None:\n",
    "            continue\n",
    "\n",
    "        gray = cv2.cvtColor(img, cv2.COLOR_BGR2GRAY)\n",
    "        laplacian_var = cv2.Laplacian(gray, cv2.CV_64F).var()\n",
    "        print(f\"{img_name}: Variance = {laplacian_var:.2f}\")\n"
   ]
  },
  {
   "cell_type": "code",
   "execution_count": null,
   "id": "e7d79b9c",
   "metadata": {},
   "outputs": [],
   "source": [
    "analyze_blurriness(\"Output Video/frames/top\")"
   ]
  },
  {
   "cell_type": "code",
   "execution_count": null,
   "id": "0ff25c47",
   "metadata": {},
   "outputs": [],
   "source": [
    "import shutil\n",
    "\n",
    "def move_blurry_images(folder_path, threshold=100.0, blurry_folder=\"blurry_top\"):\n",
    "    os.makedirs(blurry_folder, exist_ok=True)\n",
    "    for img_name in sorted(os.listdir(folder_path)):\n",
    "        img_path = os.path.join(folder_path, img_name)\n",
    "        img = cv2.imread(img_path)\n",
    "        if img is None:\n",
    "            continue\n",
    "\n",
    "        gray = cv2.cvtColor(img, cv2.COLOR_BGR2GRAY)\n",
    "        laplacian_var = cv2.Laplacian(gray, cv2.CV_64F).var()\n",
    "\n",
    "        if laplacian_var < threshold:\n",
    "            shutil.move(img_path, os.path.join(blurry_folder, img_name))\n",
    "            print(f\"Moved blurry image: {img_name} (Variance = {laplacian_var:.2f})\")\n"
   ]
  }
 ],
 "metadata": {
  "kernelspec": {
   "display_name": ".venv",
   "language": "python",
   "name": "python3"
  },
  "language_info": {
   "name": "python",
   "version": "3.10.0"
  }
 },
 "nbformat": 4,
 "nbformat_minor": 5
}
